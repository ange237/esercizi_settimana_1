{
 "cells": [
  {
   "cell_type": "code",
   "execution_count": 1,
   "id": "b6a13037",
   "metadata": {},
   "outputs": [
    {
     "name": "stdout",
     "output_type": "stream",
     "text": [
      "è un carattere.\n"
     ]
    }
   ],
   "source": [
    "\"\"\"Esercizio 004\n",
    "Sei una Vocale?\n",
    "Scrivi un programma che chieda all'utente una stringa composta da un solo carattere e dica se si tratta di una vocale oppure no\"\"\"\n",
    "\n",
    "#s=str(input(\"inserire un carattere: \"))\n",
    "s=\"a\"\n",
    "if s.isalpha():\n",
    "    print(\"è un carattere.\")\n",
    "else:\n",
    "    print(\"non è un carattere.\")"
   ]
  },
  {
   "cell_type": "code",
   "execution_count": 2,
   "id": "3c09d546",
   "metadata": {},
   "outputs": [
    {
     "name": "stdout",
     "output_type": "stream",
     "text": [
      "il prodotto della lista è:  362880\n"
     ]
    }
   ],
   "source": [
    "\"\"\"Esercizio 006\n",
    "Moltiplicatore Inarrestabile\n",
    "Scrivi un programma \"moltiplicatore\" che, data una lista di numeri, moltiplichi tra loro tutti gli elementi.\"\"\"\n",
    "\n",
    "listaNum=[1,2,3,4,5,6,7,8,9]\n",
    "prod=1\n",
    "for i in listaNum:\n",
    "    prod*=i\n",
    "print(\"il prodotto della lista è: \",prod)    "
   ]
  },
  {
   "cell_type": "code",
   "execution_count": null,
   "id": "dc6c720d",
   "metadata": {},
   "outputs": [
    {
     "name": "stdout",
     "output_type": "stream",
     "text": [
      "elemento presente alla posizione: 5\n"
     ]
    }
   ],
   "source": [
    "\"\"\"Esercizio 007\n",
    "Solamente per Soci\n",
    "Scrivi un programma che a partire da un elemento e una lista di elementi dica in output se l'elemento passato sia presente o meno nella lista.\n",
    "\n",
    "Qualora l'elemento sia presente nella lista, il programma dovrà comunicarci l'indice dell'elemento tramite il metodo index.\n",
    "\"\"\"\n",
    "elemento=10\n",
    "lista=[4,7,9,3,23,10]\n",
    "if elemento in lista:\n",
    "    print(\"elemento presente alla posizione:\",lista.index(elemento))\n",
    "else:\n",
    "    print(\"elemento non presente nella lista.\")   \n",
    "\n",
    "#versione alternativa:\n",
    "\"\"\"lista = ['Marco', 'Luigi', 'Paolo', 'Giuseppe', 'Maria']\n",
    "el = input(\"Inserisci un nome da cercare: \")\n",
    "trovato = False\n",
    "for nome in lista:\n",
    "    if nome == el:\n",
    "        trovato = True\n",
    "        break\n",
    "if trovato:\n",
    "    print(f\"{el} è presente nella lista all'indice {lista.index(el)}\")\n",
    "else:\n",
    "    print(f\"{el} non è presente nella lista.\")\"\"\"     \n"
   ]
  },
  {
   "cell_type": "code",
   "execution_count": null,
   "id": "71aa6572",
   "metadata": {},
   "outputs": [
    {
     "name": "stdout",
     "output_type": "stream",
     "text": [
      "****\n",
      "********\n",
      "**********\n",
      "******\n"
     ]
    }
   ],
   "source": [
    "\"\"\"Esercizio 008\n",
    "Generatore di Istogrammi\n",
    "Scrivi una semplice funzione che, data una lista di numeri, fornisca in output un istogramma basato su questi numeri, usando asterischi per disegnarlo.\n",
    "\n",
    "Data ad esempio la lista [3, 7, 9, 5], la funzione dovrà produrre questa sequenza:\n",
    "\n",
    "***\n",
    "\n",
    "*******\n",
    "\n",
    "*********\n",
    "\n",
    "*****\"\"\"\n",
    "\n",
    "def istogramma(lista):\n",
    "    for i in lista:\n",
    "        for j in range(i+1):\n",
    "            print(\"*\",end=\"\")\n",
    "        print() \n",
    "\n",
    "\n",
    "#versione alternativa:\n",
    "\"\"\" def istogramma(lista):\n",
    "    for numero in lista:\n",
    "        print(\"*\" * numero)        \n",
    "\"\"\"\n",
    "istogramma([3, 7, 9, 5])"
   ]
  },
  {
   "cell_type": "code",
   "execution_count": 13,
   "id": "ccb948ac",
   "metadata": {},
   "outputs": [
    {
     "name": "stdout",
     "output_type": "stream",
     "text": [
      "4\n",
      "4\n"
     ]
    }
   ],
   "source": [
    "\"\"\"Esercizio 009\n",
    "Scriviamo la nostra versione di len()\n",
    "Scrivi una funzione che restituisca la lunghezza di una stringa o lista passata come parametro. In sostanza, seppur presente, provate a scrivere la nostra versione della funzione len!\n",
    "\"\"\"\n",
    "\n",
    "def newLen(lista):\n",
    "    lun=0\n",
    "    for i in lista:\n",
    "        lun+=1\n",
    "    return lun\n",
    "print(newLen(\"ange\"))    \n",
    "print(newLen([2,5,7,19]))"
   ]
  },
  {
   "cell_type": "code",
   "execution_count": null,
   "id": "14717063",
   "metadata": {},
   "outputs": [
    {
     "name": "stdout",
     "output_type": "stream",
     "text": [
      "[4, 7, 6, 13]\n"
     ]
    }
   ],
   "source": [
    "\"\"\"Esercizio 010\n",
    "A Ciascuno il Suo\n",
    "Scrivi una funzione che data in ingresso una lista A contenente n parole, restituisca in output una lista B di interi che rappresentano la lunghezza delle parole contenute in A.\n",
    "\n",
    "Questo esercizio può essere risolto anche usando una list comprehension.\n",
    "\"\"\"\n",
    "\n",
    "def lenParole(lista):\n",
    "    listaInt=[]\n",
    "    for i in lista:\n",
    "        listaInt.append(len(i))\n",
    "    return listaInt\n",
    "\n",
    "print(lenParole([\"ange\",\"bonheur\",\"popolo\",\"bonheur.kadja\"]))\n",
    "\n",
    "#version alternativa\n",
    "\"\"\"def char_counter(lista_a):\n",
    "    lista_b = []\n",
    "    for parola in lista_a:\n",
    "        lista_b.append(len(parola))\n",
    "    return lista_b\n",
    "\n",
    "def char_counter_pro(lista_a):\n",
    "    return [len(parola) for parola in lista_a]\"\"\"\n"
   ]
  },
  {
   "cell_type": "code",
   "execution_count": null,
   "id": "151b4fb2",
   "metadata": {},
   "outputs": [
    {
     "ename": "NameError",
     "evalue": "name 'occorenze' is not defined",
     "output_type": "error",
     "traceback": [
      "\u001b[31m---------------------------------------------------------------------------\u001b[39m",
      "\u001b[31mNameError\u001b[39m                                 Traceback (most recent call last)",
      "\u001b[36mCell\u001b[39m\u001b[36m \u001b[39m\u001b[32mIn[15]\u001b[39m\u001b[32m, line 13\u001b[39m\n\u001b[32m     10\u001b[39m         occorenze[i]=\u001b[38;5;28mint\u001b[39m(stringa.count(i))\n\u001b[32m     11\u001b[39m     \u001b[38;5;28;01mreturn\u001b[39;00m occorenze\n\u001b[32m---> \u001b[39m\u001b[32m13\u001b[39m \u001b[38;5;28mprint\u001b[39m(\u001b[43moccorenze\u001b[49m(\u001b[33m\"\u001b[39m\u001b[33mababcc\u001b[39m\u001b[33m\"\u001b[39m))    \n",
      "\u001b[31mNameError\u001b[39m: name 'occorenze' is not defined"
     ]
    }
   ],
   "source": [
    "\"\"\"Esercizio 011\n",
    "Il Frequenzimetro\n",
    "Scrivi una funzione che, data una stringa come parametro, restituisca un dizionario rappresentante la \"frequenza di comparsa\" di ciascun carattere componente la stringa.\n",
    "\n",
    "Per fare un esempio, data una stringa \"ababcc\", otterremo in risultato {\"a\": 2, \"b\": 2, \"c\": 2}\n",
    "\"\"\"\n",
    "def frequenza(stringa):\n",
    "    occorenze=dict()\n",
    "    for i in stringa:\n",
    "        occorenze[i]=int(stringa.count(i))\n",
    "    return occorenze\n",
    "\n",
    "print(frequenza(\"ababcc\"))    \n"
   ]
  }
 ],
 "metadata": {
  "kernelspec": {
   "display_name": "venv",
   "language": "python",
   "name": "python3"
  },
  "language_info": {
   "codemirror_mode": {
    "name": "ipython",
    "version": 3
   },
   "file_extension": ".py",
   "mimetype": "text/x-python",
   "name": "python",
   "nbconvert_exporter": "python",
   "pygments_lexer": "ipython3",
   "version": "3.13.3"
  }
 },
 "nbformat": 4,
 "nbformat_minor": 5
}
