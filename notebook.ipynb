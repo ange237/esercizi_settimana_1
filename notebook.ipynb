{
 "cells": [
  {
   "cell_type": "code",
   "execution_count": 2,
   "id": "22762ed8",
   "metadata": {},
   "outputs": [
    {
     "name": "stdout",
     "output_type": "stream",
     "text": [
      "1\n",
      "2\n",
      "3\n",
      "4\n",
      "5\n",
      "6\n",
      "7\n",
      "8\n",
      "9\n",
      "10\n"
     ]
    }
   ],
   "source": [
    "\"\"\"1) Completare il listato che visualizza i numeri da 1 a 10:\n",
    "for...in...(1,...):\n",
    "print()\"\"\"\n",
    "\n",
    "for i in range(1,11):\n",
    "    print(i)\n"
   ]
  },
  {
   "cell_type": "code",
   "execution_count": 3,
   "id": "d9c0057c",
   "metadata": {},
   "outputs": [
    {
     "name": "stdout",
     "output_type": "stream",
     "text": [
      "<class 'int'>\n"
     ]
    }
   ],
   "source": [
    "\"\"\"2) Dichiarare una variabile x e assegnarle il valore 10. Verificare il tipo di dato di x utilizzando\n",
    "l’istruzione apposita.\"\"\"\n",
    "x=10\n",
    "print(type(x))"
   ]
  },
  {
   "cell_type": "code",
   "execution_count": 4,
   "id": "9a232ad4",
   "metadata": {},
   "outputs": [
    {
     "name": "stdout",
     "output_type": "stream",
     "text": [
      "55\n"
     ]
    }
   ],
   "source": [
    "\"\"\"3) Scrivere un programma che sommi i numeri da 1 a 10 (1+2+3+4+5...).\"\"\"\n",
    "sum=0\n",
    "for i in range(1,11):\n",
    "    sum+=i\n",
    "print(sum)    "
   ]
  },
  {
   "cell_type": "code",
   "execution_count": 1,
   "id": "2f42cc95",
   "metadata": {},
   "outputs": [
    {
     "name": "stdout",
     "output_type": "stream",
     "text": [
      "inserire il tuo numero:\n",
      "numero dispari\n"
     ]
    }
   ],
   "source": [
    "\"\"\"4) Scrivere un programma che distingua se un numero è pari o dispari.\"\"\"\n",
    "print(\"inserire il tuo numero:\")\n",
    "numero=3\n",
    "if numero%2==0:\n",
    "    print(\"numero pari\")\n",
    "else:\n",
    "    print(\"numero dispari\")            "
   ]
  },
  {
   "cell_type": "code",
   "execution_count": 4,
   "id": "52642b74",
   "metadata": {},
   "outputs": [
    {
     "name": "stdout",
     "output_type": "stream",
     "text": [
      "la media dei voti è: 24\n"
     ]
    }
   ],
   "source": [
    "\"\"\"5) Scrivere un listato che calcoli la media dei voti di un esame.\"\"\"\n",
    "listVoti=[20,25,29,18,19,30,32]\n",
    "somma=0\n",
    "for i in listVoti:\n",
    "    somma+=i\n",
    "media=somma/len(listVoti)\n",
    "print(\"la media dei voti è:\",int(media))    "
   ]
  },
  {
   "cell_type": "code",
   "execution_count": null,
   "id": "1d54bf0a",
   "metadata": {},
   "outputs": [
    {
     "name": "stdout",
     "output_type": "stream",
     "text": [
      "lista non ordinata in modo crescente\n"
     ]
    }
   ],
   "source": [
    "\"\"\"6) Scrivere un listato che verifichi se una lista è ordinata in ordine crescente.\"\"\"\n",
    "listOrd=[20,25,29,18,19,30,32]\n",
    "flag=True\n",
    "lun=len(listOrd)\n",
    "for i in range(lun-1) :\n",
    "     if listOrd[i]>listOrd[i+1] :\n",
    "          flag=False\n",
    "if flag==True: \n",
    "    print(\"lista ordinata in modo crescente\") \n",
    "else:\n",
    "     print(\"lista non ordinata in modo crescente\")          "
   ]
  },
  {
   "cell_type": "code",
   "execution_count": null,
   "id": "4bf55830",
   "metadata": {},
   "outputs": [
    {
     "name": "stdout",
     "output_type": "stream",
     "text": [
      "la somma di x+y è: 30\n"
     ]
    }
   ],
   "source": [
    "\"\"\"7) Scrivere un programma che assegna il valore 10 ad una variabile x e il valore 20 ad una variabile\n",
    "y, quindi calcola la somma di x e y e la visualizzi a video.\"\"\"\n",
    "x=10\n",
    "y=20\n",
    "print(\"la somma di x+y è:\",x+y)"
   ]
  },
  {
   "cell_type": "code",
   "execution_count": 28,
   "id": "2fb0b582",
   "metadata": {},
   "outputs": [
    {
     "name": "stdout",
     "output_type": "stream",
     "text": [
      "l'area del quadrato è: 100\n"
     ]
    }
   ],
   "source": [
    "\"\"\"8) Scrivere un programma che calcoli l'area di un quadrato dato il valore del lato.\"\"\"\n",
    "lato=10\n",
    "area=lato*lato\n",
    "print(\"l'area del quadrato è:\",area)"
   ]
  },
  {
   "cell_type": "code",
   "execution_count": 31,
   "id": "4c476355",
   "metadata": {},
   "outputs": [
    {
     "name": "stdout",
     "output_type": "stream",
     "text": [
      "la temperatura in Fahrenheit è:  77.0 °F\n"
     ]
    }
   ],
   "source": [
    "\"\"\"9) Scrivere un programma che converta i gradi Celsius in gradi Fahrenheit. Utilizzare una costante\n",
    "per rappresentare il fattore di conversione.\"\"\"\n",
    "COEF=1.8\n",
    "celcius=25\n",
    "fahren=(COEF*celcius)+32\n",
    "print(\"la temperatura in Fahrenheit è: \",fahren,\"°F\")"
   ]
  },
  {
   "cell_type": "code",
   "execution_count": 32,
   "id": "dd704250",
   "metadata": {},
   "outputs": [
    {
     "name": "stdout",
     "output_type": "stream",
     "text": [
      "l'aera del rettangolo è: 200 M^2\n"
     ]
    }
   ],
   "source": [
    "\"\"\"10) Scrivere un programma che calcoli l'area di un rettangolo dati la base e l'altezza. Assegnare i\n",
    "valori della base e dell’altezza a delle variabili.\"\"\"\n",
    "base=10\n",
    "altezza=20\n",
    "area=base*altezza\n",
    "print(\"l'aera del rettangolo è:\",area,\"M^2\")"
   ]
  },
  {
   "cell_type": "code",
   "execution_count": 34,
   "id": "e309d842",
   "metadata": {},
   "outputs": [
    {
     "name": "stdout",
     "output_type": "stream",
     "text": [
      "100\n"
     ]
    }
   ],
   "source": [
    "\"\"\"11) Scrivere una funzione che prenda in input una lista di numeri interi e restituisca la somma dei\n",
    "numeri pari. Potete completare la struttura del codice in basso oppure riscriverlo da zero:\n",
    "def somma(lista):\n",
    "totale = ...\n",
    "for ... in lista:\n",
    "if ... % 2 == ...:\n",
    "totale += ...\n",
    "return ...\n",
    "print(.....([.....]))\"\"\"\n",
    "def somma(lista):\n",
    "  totale = 0\n",
    "  for i in lista:\n",
    "      if i % 2 == 0:\n",
    "        totale +=i\n",
    "  return totale\n",
    "\n",
    "print(somma([20,25,29,18,19,30,32]))"
   ]
  },
  {
   "cell_type": "code",
   "execution_count": 10,
   "id": "af09e766",
   "metadata": {},
   "outputs": [
    {
     "name": "stdout",
     "output_type": "stream",
     "text": [
      "ange\n",
      "egna\n"
     ]
    }
   ],
   "source": [
    "\"\"\"12) Scrivere una funzione che prenda in input una stringa e la restituisca con le lettere in ordine\n",
    "invertito.\"\"\"\n",
    "def invertion(stringa):\n",
    "    print(stringa)\n",
    "    lista=list(stringa)\n",
    "    stringa2=[]\n",
    "    i=len(stringa)-1\n",
    "    while i>=0:\n",
    "        stringa2.append(stringa[i])\n",
    "        i-=1    \n",
    "    return \"\".join(stringa2)\n",
    "print(invertion(\"ange\"))"
   ]
  },
  {
   "cell_type": "code",
   "execution_count": 12,
   "id": "3ebfc753",
   "metadata": {},
   "outputs": [
    {
     "name": "stdout",
     "output_type": "stream",
     "text": [
      "['pollo arrosto', 'pomodoro', 'oliva']\n"
     ]
    }
   ],
   "source": [
    "\"\"\"13) Scrivere una funzione che prenda in input una lista di stringhe e restituisca una lista contenente\n",
    "solo quelle che hanno una lunghezza maggiore di 5 caratteri.\"\"\"\n",
    "\n",
    "def selezione(listaString):\n",
    "    lista=[]\n",
    "    for i in listaString:\n",
    "        if len(i)>=5:\n",
    "            lista.append(i)\n",
    "    return lista\n",
    "\n",
    "print(selezione([\"pollo arrosto\",\"pomodoro\",\"sole\",\"olio\",\"oliva\"]))"
   ]
  },
  {
   "cell_type": "code",
   "execution_count": 13,
   "id": "2787e8df",
   "metadata": {},
   "outputs": [
    {
     "name": "stdout",
     "output_type": "stream",
     "text": [
      "100\n"
     ]
    }
   ],
   "source": [
    "\"\"\"14) Scrivere una funzione che prenda in input una lista di numeri interi e che restituisca quello più\n",
    "grande.\"\"\"\n",
    "def maxNumero(listaNumeri):\n",
    "    return max(listaNumeri)\n",
    "\n",
    "print(maxNumero([10,20,45,89,100,7]))"
   ]
  },
  {
   "cell_type": "code",
   "execution_count": 14,
   "id": "519b182e",
   "metadata": {},
   "outputs": [
    {
     "name": "stdout",
     "output_type": "stream",
     "text": [
      "pollo arrosto\n"
     ]
    }
   ],
   "source": [
    "\"\"\"15) Scrivere una funzione che prenda in input una lista di parole e che restituisca quella più lunga.\"\"\"\n",
    "def maxParola(listaParole):\n",
    "    parola=\"\"\n",
    "    for i in listaParole:\n",
    "        if len(i)>len(parola):\n",
    "            parola=i\n",
    "    return parola   \n",
    "\n",
    "print(maxParola([\"pollo arrosto\",\"pomodoro\",\"sole\",\"olio\",\"oliva\"]))     "
   ]
  },
  {
   "cell_type": "code",
   "execution_count": 22,
   "id": "95bfa1ce",
   "metadata": {},
   "outputs": [
    {
     "name": "stdout",
     "output_type": "stream",
     "text": [
      "1     <class 'str'>\n"
     ]
    }
   ],
   "source": [
    "\"\"\"16) Scrivere una funzione che prenda in input un numero intero e restituisca il suo valore come\n",
    "stringa.\"\"\"\n",
    "def converte(intero):\n",
    "    return str(intero)\n",
    "x=converte(1)\n",
    "print(x,\"   \",type(x))"
   ]
  },
  {
   "cell_type": "code",
   "execution_count": 21,
   "id": "bb3a34d3",
   "metadata": {},
   "outputs": [
    {
     "name": "stdout",
     "output_type": "stream",
     "text": [
      "2    <class 'int'>\n"
     ]
    }
   ],
   "source": [
    "\"\"\"17) Scrivere una funzione che prenda in input una stringa rappresentante un numero intero e\n",
    "restituisca il valore intero corrispondente.\"\"\"\n",
    "def converteIntero(stringa):\n",
    "    return int(stringa)\n",
    "x=converteIntero(\"2\")\n",
    "print(x,\"  \",type(x))"
   ]
  },
  {
   "cell_type": "code",
   "execution_count": 23,
   "id": "44944924",
   "metadata": {},
   "outputs": [
    {
     "name": "stdout",
     "output_type": "stream",
     "text": [
      "1     <class 'int'>\n",
      "3     <class 'int'>\n",
      "8     <class 'int'>\n",
      "9     <class 'int'>\n"
     ]
    }
   ],
   "source": [
    "\"\"\"18) Scrivere una funzione che prenda in input una lista di numeri come stringhe e restituisca una\n",
    "lista di numeri interi.\"\"\"\n",
    "def converteListaInteri(listaStinghe):\n",
    "    listaInt=[]\n",
    "    for i in listaStinghe:\n",
    "        listaInt.append(int(i))\n",
    "    return listaInt\n",
    "list=[\"1\",\"3\",\"8\",\"9\"]\n",
    "x=converteListaInteri(list)\n",
    "for i in x:\n",
    "    print(i,\"   \",type(i))  "
   ]
  },
  {
   "cell_type": "code",
   "execution_count": 24,
   "id": "7f2eecd1",
   "metadata": {},
   "outputs": [
    {
     "name": "stdout",
     "output_type": "stream",
     "text": [
      "1     <class 'str'>\n",
      "3     <class 'str'>\n",
      "8     <class 'str'>\n",
      "9     <class 'str'>\n"
     ]
    }
   ],
   "source": [
    "\"\"\"19) Scrivere una funzione che prenda in input una lista di numeri interi e restituisca una lista di\n",
    "stringhe che rappresentano i numeri interi.\"\"\"\n",
    "\n",
    "def converteListaStringhe(listaInteri):\n",
    "    listaStringhe=[]\n",
    "    for i in listaInteri:\n",
    "        listaStringhe.append(str(i))\n",
    "    return listaStringhe\n",
    "list=[1,3,8,9]\n",
    "x=converteListaStringhe(list)\n",
    "for i in x:\n",
    "    print(i,\"   \",type(i))"
   ]
  },
  {
   "cell_type": "code",
   "execution_count": 26,
   "id": "73ceb09b",
   "metadata": {},
   "outputs": [
    {
     "name": "stdout",
     "output_type": "stream",
     "text": [
      "1     <class 'int'>\n",
      "0     <class 'int'>\n",
      "0     <class 'int'>\n"
     ]
    }
   ],
   "source": [
    "\"\"\"20) Scrivere una funzione che prenda in input un numero intero e restituisca una lista contenente le\n",
    "sue cifre come numeri interi.\"\"\"\n",
    "\n",
    "def numeroDecomposto(intero):\n",
    "    stringa=str(intero)\n",
    "    listInteri=[]\n",
    "    for i in stringa:\n",
    "        listInteri.append(int(i))\n",
    "    return listInteri\n",
    "\n",
    "lista=numeroDecomposto(100)\n",
    "for i in lista:\n",
    "    print(i,\"   \",type(i))"
   ]
  },
  {
   "cell_type": "code",
   "execution_count": null,
   "id": "445cdd1b",
   "metadata": {},
   "outputs": [],
   "source": [
    "\"\"\"21) Qual è la differenza tra una costante e una variabile?\"\"\"\n",
    "#il valore di una costante non può essere modificato mentre quello di una variabile sì."
   ]
  },
  {
   "cell_type": "code",
   "execution_count": null,
   "id": "1c4ce92a",
   "metadata": {},
   "outputs": [],
   "source": [
    "\"\"\"22) Qual è la sintassi per dichiarare una variabile?\"\"\"\n",
    "# nome_variabile=valore_variabile"
   ]
  },
  {
   "cell_type": "code",
   "execution_count": null,
   "id": "26377bb6",
   "metadata": {},
   "outputs": [],
   "source": [
    "\"\"\"23) Qual è la sintassi per dichiarare una costante?\"\"\"\n",
    "#COSTANTE_TUTTO_IN_MAIUSCOLO=valore_costante"
   ]
  },
  {
   "cell_type": "code",
   "execution_count": null,
   "id": "2d4b4bf5",
   "metadata": {},
   "outputs": [],
   "source": [
    "\"\"\"24) Qual è il tipo di dato che rappresenta un insieme di valori univoci e immutabili?\"\"\"\n",
    "#si tratta di un set congelato"
   ]
  },
  {
   "cell_type": "code",
   "execution_count": null,
   "id": "5d4046f4",
   "metadata": {},
   "outputs": [],
   "source": [
    "\"\"\"25) Qual è il tipo di dato che rappresenta un insieme di valori modificabili e indicizzati tramite chiavi?\"\"\"\n",
    "#si tratta di un dizionario"
   ]
  },
  {
   "cell_type": "code",
   "execution_count": null,
   "id": "c3de3ba8",
   "metadata": {},
   "outputs": [],
   "source": [
    "\"\"\"26) Qual è il tipo di dato che rappresenta un valore booleano?\"\"\"\n",
    "#un valore booleano rappresenta il tipo di dato booleano, ovvero vero(True) o falso(False)"
   ]
  },
  {
   "cell_type": "code",
   "execution_count": null,
   "id": "dbca6441",
   "metadata": {},
   "outputs": [],
   "source": [
    "\"\"\"27) Quale costrutto viene utilizzato per iterare su una sequenza di valori?\"\"\"\n",
    "#il costrutto for...in..."
   ]
  },
  {
   "cell_type": "code",
   "execution_count": null,
   "id": "95260bd3",
   "metadata": {},
   "outputs": [],
   "source": [
    "\"\"\"28) Come si può interrompere un ciclo while?\"\"\"\n",
    "#con un'istruzione break"
   ]
  },
  {
   "cell_type": "code",
   "execution_count": null,
   "id": "54dec1fa",
   "metadata": {},
   "outputs": [],
   "source": [
    "\"\"\"29) Qual è l'operatore di assegnazione in Python?\"\"\"\n",
    "# è uguale(=)"
   ]
  },
  {
   "cell_type": "code",
   "execution_count": null,
   "id": "f58f83fa",
   "metadata": {},
   "outputs": [],
   "source": [
    "\"\"\"30) Cosa fa la funzione str() in Python?\"\"\"\n",
    "#serve per creare una stringa e anche per fare la conversione da un altro tipo a una stringa"
   ]
  }
 ],
 "metadata": {
  "kernelspec": {
   "display_name": "venv",
   "language": "python",
   "name": "python3"
  },
  "language_info": {
   "codemirror_mode": {
    "name": "ipython",
    "version": 3
   },
   "file_extension": ".py",
   "mimetype": "text/x-python",
   "name": "python",
   "nbconvert_exporter": "python",
   "pygments_lexer": "ipython3",
   "version": "3.13.3"
  }
 },
 "nbformat": 4,
 "nbformat_minor": 5
}
