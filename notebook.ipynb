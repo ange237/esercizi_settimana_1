{
 "cells": [
  {
   "cell_type": "code",
   "execution_count": 2,
   "id": "22762ed8",
   "metadata": {},
   "outputs": [
    {
     "name": "stdout",
     "output_type": "stream",
     "text": [
      "1\n",
      "2\n",
      "3\n",
      "4\n",
      "5\n",
      "6\n",
      "7\n",
      "8\n",
      "9\n",
      "10\n"
     ]
    }
   ],
   "source": [
    "\"\"\"1) Completare il listato che visualizza i numeri da 1 a 10:\n",
    "for...in...(1,...):\n",
    "print()\"\"\"\n",
    "\n",
    "for i in range(1,11):\n",
    "    print(i)\n"
   ]
  },
  {
   "cell_type": "code",
   "execution_count": 3,
   "id": "d9c0057c",
   "metadata": {},
   "outputs": [
    {
     "name": "stdout",
     "output_type": "stream",
     "text": [
      "<class 'int'>\n"
     ]
    }
   ],
   "source": [
    "\"\"\"2) Dichiarare una variabile x e assegnarle il valore 10. Verificare il tipo di dato di x utilizzando\n",
    "l’istruzione apposita.\"\"\"\n",
    "x=10\n",
    "print(type(x))"
   ]
  },
  {
   "cell_type": "code",
   "execution_count": 4,
   "id": "9a232ad4",
   "metadata": {},
   "outputs": [
    {
     "name": "stdout",
     "output_type": "stream",
     "text": [
      "55\n"
     ]
    }
   ],
   "source": [
    "\"\"\"3) Scrivere un programma che sommi i numeri da 1 a 10 (1+2+3+4+5...).\"\"\"\n",
    "sum=0\n",
    "for i in range(1,11):\n",
    "    sum+=i\n",
    "print(sum)    "
   ]
  },
  {
   "cell_type": "code",
   "execution_count": 1,
   "id": "2f42cc95",
   "metadata": {},
   "outputs": [
    {
     "name": "stdout",
     "output_type": "stream",
     "text": [
      "inserire il tuo numero:\n",
      "numero dispari\n"
     ]
    }
   ],
   "source": [
    "\"\"\"4) Scrivere un programma che distingua se un numero è pari o dispari.\"\"\"\n",
    "print(\"inserire il tuo numero:\")\n",
    "numero=3\n",
    "if numero%2==0:\n",
    "    print(\"numero pari\")\n",
    "else:\n",
    "    print(\"numero dispari\")            "
   ]
  },
  {
   "cell_type": "code",
   "execution_count": 4,
   "id": "52642b74",
   "metadata": {},
   "outputs": [
    {
     "name": "stdout",
     "output_type": "stream",
     "text": [
      "la media dei voti è: 24\n"
     ]
    }
   ],
   "source": [
    "\"\"\"5) Scrivere un listato che calcoli la media dei voti di un esame.\"\"\"\n",
    "listVoti=[20,25,29,18,19,30,32]\n",
    "somma=0\n",
    "for i in listVoti:\n",
    "    somma+=i\n",
    "media=somma/len(listVoti)\n",
    "print(\"la media dei voti è:\",int(media))    "
   ]
  },
  {
   "cell_type": "code",
   "execution_count": null,
   "id": "1d54bf0a",
   "metadata": {},
   "outputs": [
    {
     "name": "stdout",
     "output_type": "stream",
     "text": [
      "lista non ordinata in modo crescente\n"
     ]
    }
   ],
   "source": [
    "\"\"\"6) Scrivere un listato che verifichi se una lista è ordinata in ordine crescente.\"\"\"\n",
    "listOrd=[20,25,29,18,19,30,32]\n",
    "flag=True\n",
    "lun=len(listOrd)\n",
    "for i in range(lun-1) :\n",
    "     if listOrd[i]>listOrd[i+1] :\n",
    "          flag=False\n",
    "if flag==True: \n",
    "    print(\"lista ordinata in modo crescente\") \n",
    "else:\n",
    "     print(\"lista non ordinata in modo crescente\")          "
   ]
  },
  {
   "cell_type": "code",
   "execution_count": null,
   "id": "4bf55830",
   "metadata": {},
   "outputs": [
    {
     "name": "stdout",
     "output_type": "stream",
     "text": [
      "la somma di x+y è: 30\n"
     ]
    }
   ],
   "source": [
    "\"\"\"7) Scrivere un programma che assegna il valore 10 ad una variabile x e il valore 20 ad una variabile\n",
    "y, quindi calcola la somma di x e y e la visualizzi a video.\"\"\"\n",
    "x=10\n",
    "y=20\n",
    "print(\"la somma di x+y è:\",x+y)"
   ]
  },
  {
   "cell_type": "code",
   "execution_count": 28,
   "id": "2fb0b582",
   "metadata": {},
   "outputs": [
    {
     "name": "stdout",
     "output_type": "stream",
     "text": [
      "l'area del quadrato è: 100\n"
     ]
    }
   ],
   "source": [
    "\"\"\"8) Scrivere un programma che calcoli l'area di un quadrato dato il valore del lato.\"\"\"\n",
    "lato=10\n",
    "area=lato*lato\n",
    "print(\"l'area del quadrato è:\",area)"
   ]
  },
  {
   "cell_type": "code",
   "execution_count": 31,
   "id": "4c476355",
   "metadata": {},
   "outputs": [
    {
     "name": "stdout",
     "output_type": "stream",
     "text": [
      "la temperatura in Fahrenheit è:  77.0 °F\n"
     ]
    }
   ],
   "source": [
    "\"\"\"9) Scrivere un programma che converta i gradi Celsius in gradi Fahrenheit. Utilizzare una costante\n",
    "per rappresentare il fattore di conversione.\"\"\"\n",
    "COEF=1.8\n",
    "celcius=25\n",
    "fahren=(COEF*celcius)+32\n",
    "print(\"la temperatura in Fahrenheit è: \",fahren,\"°F\")"
   ]
  },
  {
   "cell_type": "code",
   "execution_count": 32,
   "id": "dd704250",
   "metadata": {},
   "outputs": [
    {
     "name": "stdout",
     "output_type": "stream",
     "text": [
      "l'aera del rettangolo è: 200 M^2\n"
     ]
    }
   ],
   "source": [
    "\"\"\"10) Scrivere un programma che calcoli l'area di un rettangolo dati la base e l'altezza. Assegnare i\n",
    "valori della base e dell’altezza a delle variabili.\"\"\"\n",
    "base=10\n",
    "altezza=20\n",
    "area=base*altezza\n",
    "print(\"l'aera del rettangolo è:\",area,\"M^2\")"
   ]
  },
  {
   "cell_type": "code",
   "execution_count": 34,
   "id": "e309d842",
   "metadata": {},
   "outputs": [
    {
     "name": "stdout",
     "output_type": "stream",
     "text": [
      "100\n"
     ]
    }
   ],
   "source": [
    "\"\"\"11) Scrivere una funzione che prenda in input una lista di numeri interi e restituisca la somma dei\n",
    "numeri pari. Potete completare la struttura del codice in basso oppure riscriverlo da zero:\n",
    "def somma(lista):\n",
    "totale = ...\n",
    "for ... in lista:\n",
    "if ... % 2 == ...:\n",
    "totale += ...\n",
    "return ...\n",
    "print(.....([.....]))\"\"\"\n",
    "def somma(lista):\n",
    "  totale = 0\n",
    "  for i in lista:\n",
    "      if i % 2 == 0:\n",
    "        totale +=i\n",
    "  return totale\n",
    "\n",
    "print(somma([20,25,29,18,19,30,32]))"
   ]
  }
 ],
 "metadata": {
  "kernelspec": {
   "display_name": "venv",
   "language": "python",
   "name": "python3"
  },
  "language_info": {
   "codemirror_mode": {
    "name": "ipython",
    "version": 3
   },
   "file_extension": ".py",
   "mimetype": "text/x-python",
   "name": "python",
   "nbconvert_exporter": "python",
   "pygments_lexer": "ipython3",
   "version": "3.13.3"
  }
 },
 "nbformat": 4,
 "nbformat_minor": 5
}
